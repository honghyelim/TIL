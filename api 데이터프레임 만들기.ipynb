{
 "cells": [
  {
   "cell_type": "code",
   "execution_count": 1,
   "metadata": {},
   "outputs": [],
   "source": [
    "import pandas as pd\n",
    "import numpy as np\n",
    "import os\n",
    "import sys\n",
    "import json\n",
    "import urllib.request\n",
    "import re"
   ]
  },
  {
   "cell_type": "code",
   "execution_count": 2,
   "metadata": {},
   "outputs": [],
   "source": [
    "a = ['삼성', 'LG', '현대', 'CJ']"
   ]
  },
  {
   "cell_type": "code",
   "execution_count": 6,
   "metadata": {},
   "outputs": [],
   "source": [
    "total = pd.DataFrame([])\n",
    "\n",
    "\n",
    "my_id = 'X4jc8wTuqbTApPpJWBdb'\n",
    "my_key = 'JbzST6xdbr'\n",
    "\n",
    "for i in range(len(a)):\n",
    "    j = a[i]\n",
    "    encText = urllib.parse.quote(j)\n",
    "    # encText = urllib.parse.quote('이것저것, 공부, 야구, big') # 필수값 :  무슨 키워드로 검색할지\n",
    "    display_no = '3' # 몇 개의 글을 검색할지(10~100) 기본값 : 10\n",
    "    from_where_start = '1' # 몇 번째 글부터 보여줄지(1~100), 기본값 : 1\n",
    "    condition = 'sim' # 검색 조건 (정확도 : sim, 최신순 : date), 기본값 : sim\n",
    "\n",
    "    url = \"https://openapi.naver.com/v1/search/news?query=\" + encText + '&display=' + display_no + '&start=' + from_where_start + '&sort=' + condition \n",
    "\n",
    "    request = urllib.request.Request(url)\n",
    "    request.add_header('X-Naver-Client-Id', my_id)\n",
    "    request.add_header('X-Naver-Client-Secret', my_key)\n",
    "    response = urllib.request.urlopen(request)\n",
    "    rescode =response.getcode()\n",
    "    if(rescode==200): \n",
    "        results = json.load(response) \n",
    "        raw = [(a[i], results['items'][0]['title'], results['items'][1]['title'], results['items'][2]['title'])]\n",
    "        df = pd.DataFrame(raw, columns =['기업명', '기사제목1', '기사제목2', '기사제목3'])\n",
    "        total = total.append(df)"
   ]
  },
  {
   "cell_type": "code",
   "execution_count": 9,
   "metadata": {},
   "outputs": [
    {
     "data": {
      "text/plain": [
       "{'lastBuildDate': 'Thu, 05 Nov 2020 13:12:08 +0900',\n",
       " 'total': 1872388,\n",
       " 'start': 1,\n",
       " 'display': 3,\n",
       " 'items': [{'title': \"범삼성家 맞손…SSG닷컴, <b>CJ</b> ENM과 협업 'V커머스' 강화\",\n",
       "   'originallink': 'http://www.inews24.com/view/1313395',\n",
       "   'link': 'https://news.naver.com/main/read.nhn?mode=LSD&mid=sec&sid1=101&oid=031&aid=0000566339',\n",
       "   'description': '범삼성가인 신세계와 <b>CJ</b>가 맞손을 잡는다. 신세계의 SSG닷컴이 V커머스 강화를 위해 <b>CJ</b> ENM과 협업한다. SSG닷컴은 오는 5일부터 <b>CJ</b> ENM의 1인창작자 지원 사업 다이아 티비(DIA TV)와 협업해 유튜브 크리에이터가 기획한... ',\n",
       "   'pubDate': 'Wed, 04 Nov 2020 06:00:00 +0900'},\n",
       "  {'title': '&quot;<b>CJ</b>대한통운, 택배기사에 추가인력 투입비용 떠넘겨&quot;',\n",
       "   'originallink': 'http://yna.kr/AKR20201105093400004?did=1195m',\n",
       "   'link': 'https://news.naver.com/main/read.nhn?mode=LSD&mid=sec&sid1=102&oid=001&aid=0011994646',\n",
       "   'description': '관련해 <b>CJ</b>대한통운 등이 추가 인력 투입을 약속했으나 실제로는 그 비용을 택배노동자들에게 전가하고... 택배노동자 과로사 대책위원회(대책위)는 5일 서울 종로구 참여연대에서 기자회견을 열고 &quot;<b>CJ</b>대한통운은 비용부담... ',\n",
       "   'pubDate': 'Thu, 05 Nov 2020 13:08:00 +0900'},\n",
       "  {'title': '[AI 뉴스] 삼성전자 인공 인간 프로젝트 ‘네온’, <b>CJ</b>와 손잡다',\n",
       "   'originallink': '',\n",
       "   'link': 'https://news.naver.com/main/read.nhn?mode=LSD&mid=sec&sid1=004&oid=050&aid=0000055576',\n",
       "   'description': '이와 관련해 삼성전자 스타랩스는 10월 23일 <b>CJ</b>올리브네트웍스와 인공 인간 사업 협력을 위한 업무협약(MOU)을 체결했다. <b>CJ</b>는 네온을 활용해 빠르게 변화하는 미디어 콘텐츠 산업에 선제적으로 대응한다는 계획이다. 그... ',\n",
       "   'pubDate': 'Thu, 05 Nov 2020 09:09:00 +0900'}]}"
      ]
     },
     "execution_count": 9,
     "metadata": {},
     "output_type": "execute_result"
    }
   ],
   "source": [
    "#api에서 받아지는 형식 확인하고 싶으면\n",
    "results"
   ]
  },
  {
   "cell_type": "code",
   "execution_count": 10,
   "metadata": {},
   "outputs": [
    {
     "data": {
      "text/html": [
       "<div>\n",
       "<style scoped>\n",
       "    .dataframe tbody tr th:only-of-type {\n",
       "        vertical-align: middle;\n",
       "    }\n",
       "\n",
       "    .dataframe tbody tr th {\n",
       "        vertical-align: top;\n",
       "    }\n",
       "\n",
       "    .dataframe thead th {\n",
       "        text-align: right;\n",
       "    }\n",
       "</style>\n",
       "<table border=\"1\" class=\"dataframe\">\n",
       "  <thead>\n",
       "    <tr style=\"text-align: right;\">\n",
       "      <th></th>\n",
       "      <th>기업명</th>\n",
       "      <th>기사제목1</th>\n",
       "      <th>기사제목2</th>\n",
       "      <th>기사제목3</th>\n",
       "    </tr>\n",
       "  </thead>\n",
       "  <tbody>\n",
       "    <tr>\n",
       "      <th>0</th>\n",
       "      <td>삼성</td>\n",
       "      <td>&lt;b&gt;삼성&lt;/b&gt; '빅스비', 호출어 '새미야' 추가...AI스피커 먼저</td>\n",
       "      <td>&lt;b&gt;삼성&lt;/b&gt; AI 비서 빅스비, 이젠 '새미'라고 부른다</td>\n",
       "      <td>&lt;b&gt;삼성&lt;/b&gt;, AI호출어 새미야 추가…&amp;quot;스마트폰도 적용 목표&amp;quot;</td>\n",
       "    </tr>\n",
       "    <tr>\n",
       "      <th>0</th>\n",
       "      <td>LG</td>\n",
       "      <td>LGU+, 3분기 영업익 60.6% 성장…서비스 매출도 14.4% 증가(종합)</td>\n",
       "      <td>&lt;b&gt;LG&lt;/b&gt;-SK 배터리 비밀침해 소송 최종판결, 1년 뒤 나온다</td>\n",
       "      <td>&amp;quot;땡큐 언택트!&amp;quot; &lt;b&gt;LG&lt;/b&gt;유플러스, 3분기 영업익 전년비...</td>\n",
       "    </tr>\n",
       "    <tr>\n",
       "      <th>0</th>\n",
       "      <td>현대</td>\n",
       "      <td>&lt;b&gt;현대&lt;/b&gt;차 노조가 걷는 새로운 길[현장에서/김도형]</td>\n",
       "      <td>&lt;b&gt;현대&lt;/b&gt;로템-철도연 맞손…수소전기열차 조기 상용화 협력</td>\n",
       "      <td>美서 질주하는 기아차...형님 '&lt;b&gt;현대&lt;/b&gt;차' 추월할까</td>\n",
       "    </tr>\n",
       "    <tr>\n",
       "      <th>0</th>\n",
       "      <td>CJ</td>\n",
       "      <td>범삼성家 맞손…SSG닷컴, &lt;b&gt;CJ&lt;/b&gt; ENM과 협업 'V커머스' 강화</td>\n",
       "      <td>&amp;quot;&lt;b&gt;CJ&lt;/b&gt;대한통운, 택배기사에 추가인력 투입비용 떠넘겨&amp;quot;</td>\n",
       "      <td>[AI 뉴스] 삼성전자 인공 인간 프로젝트 ‘네온’, &lt;b&gt;CJ&lt;/b&gt;와 손잡다</td>\n",
       "    </tr>\n",
       "  </tbody>\n",
       "</table>\n",
       "</div>"
      ],
      "text/plain": [
       "  기업명                                        기사제목1  \\\n",
       "0  삼성     <b>삼성</b> '빅스비', 호출어 '새미야' 추가...AI스피커 먼저   \n",
       "0  LG  LGU+, 3분기 영업익 60.6% 성장…서비스 매출도 14.4% 증가(종합)   \n",
       "0  현대            <b>현대</b>차 노조가 걷는 새로운 길[현장에서/김도형]   \n",
       "0  CJ   범삼성家 맞손…SSG닷컴, <b>CJ</b> ENM과 협업 'V커머스' 강화   \n",
       "\n",
       "                                            기사제목2  \\\n",
       "0              <b>삼성</b> AI 비서 빅스비, 이젠 '새미'라고 부른다   \n",
       "0         <b>LG</b>-SK 배터리 비밀침해 소송 최종판결, 1년 뒤 나온다   \n",
       "0             <b>현대</b>로템-철도연 맞손…수소전기열차 조기 상용화 협력   \n",
       "0  &quot;<b>CJ</b>대한통운, 택배기사에 추가인력 투입비용 떠넘겨&quot;   \n",
       "\n",
       "                                               기사제목3  \n",
       "0    <b>삼성</b>, AI호출어 새미야 추가…&quot;스마트폰도 적용 목표&quot;  \n",
       "0  &quot;땡큐 언택트!&quot; <b>LG</b>유플러스, 3분기 영업익 전년비...  \n",
       "0                 美서 질주하는 기아차...형님 '<b>현대</b>차' 추월할까  \n",
       "0       [AI 뉴스] 삼성전자 인공 인간 프로젝트 ‘네온’, <b>CJ</b>와 손잡다  "
      ]
     },
     "execution_count": 10,
     "metadata": {},
     "output_type": "execute_result"
    }
   ],
   "source": [
    "#완성된 데이터프레임\n",
    "total"
   ]
  },
  {
   "cell_type": "code",
   "execution_count": null,
   "metadata": {},
   "outputs": [],
   "source": []
  }
 ],
 "metadata": {
  "kernelspec": {
   "display_name": "Python 3",
   "language": "python",
   "name": "python3"
  },
  "language_info": {
   "codemirror_mode": {
    "name": "ipython",
    "version": 3
   },
   "file_extension": ".py",
   "mimetype": "text/x-python",
   "name": "python",
   "nbconvert_exporter": "python",
   "pygments_lexer": "ipython3",
   "version": "3.7.6"
  }
 },
 "nbformat": 4,
 "nbformat_minor": 2
}
